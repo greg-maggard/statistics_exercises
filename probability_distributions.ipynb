{
 "cells": [
  {
   "cell_type": "code",
   "execution_count": 1,
   "id": "1a9e597f",
   "metadata": {},
   "outputs": [],
   "source": [
    "import matplotlib.pyplot as plt\n",
    "import numpy as np\n",
    "import pandas as pd\n",
    "from scipy import stats\n",
    "from math import floor\n",
    "\n",
    "from env import get_db_url\n",
    "\n",
    "url = get_db_url('employees')"
   ]
  },
  {
   "cell_type": "markdown",
   "id": "45c82edd",
   "metadata": {},
   "source": [
    "# For the following problems, use python to simulate the problem and calculate an experimental probability, then compare that to the theoretical probability."
   ]
  },
  {
   "cell_type": "markdown",
   "id": "bedeb610",
   "metadata": {},
   "source": [
    "## 1. A bank found that the average number of cars waiting during the noon hour at a drive-up window follows a Poisson distribution with a mean of 2 cars. Make a chart of this distribution and answer these questions concerning the probability of cars waiting at the drive-up window."
   ]
  },
  {
   "cell_type": "code",
   "execution_count": 2,
   "id": "ff63ba28",
   "metadata": {},
   "outputs": [
    {
     "data": {
      "text/plain": [
       "<scipy.stats._distn_infrastructure.rv_frozen at 0x7f83919ef700>"
      ]
     },
     "execution_count": 2,
     "metadata": {},
     "output_type": "execute_result"
    }
   ],
   "source": [
    "stats.poisson(2)"
   ]
  },
  {
   "cell_type": "code",
   "execution_count": 3,
   "id": "1b56c119",
   "metadata": {},
   "outputs": [
    {
     "data": {
      "image/png": "[encoded data removed]",
      "text/plain": [
       "<Figure size 432x288 with 1 Axes>"
      ]
     },
     "metadata": {
      "needs_background": "light"
     },
     "output_type": "display_data"
    }
   ],
   "source": [
    "#How do we graph this chart?\n",
    "\n",
    "λ = 2 \n",
    "\n",
    "x = np.arange(0, 12)\n",
    "y = stats.poisson(λ).pmf(x)\n",
    "\n",
    "plt.bar(x,y)\n",
    "plt.title('Poisson distribution with $λ = 2$')\n",
    "plt.xlabel('Number of cars during noon hour')\n",
    "plt.ylabel('P(X)');"
   ]
  },
  {
   "cell_type": "markdown",
   "id": "ced699cf",
   "metadata": {},
   "source": [
    "### a. What is the probability that no cars drive up in the noon hour?"
   ]
  },
  {
   "cell_type": "code",
   "execution_count": 4,
   "id": "1dde8c46",
   "metadata": {},
   "outputs": [
    {
     "data": {
      "text/plain": [
       "0.1353352832366127"
      ]
     },
     "execution_count": 4,
     "metadata": {},
     "output_type": "execute_result"
    }
   ],
   "source": [
    "stats.poisson(2).pmf(0)"
   ]
  },
  {
   "cell_type": "markdown",
   "id": "337b8082",
   "metadata": {},
   "source": [
    "### b. What is the probability that 3 or more cars come through the drive through?"
   ]
  },
  {
   "cell_type": "code",
   "execution_count": 5,
   "id": "6f381d84",
   "metadata": {},
   "outputs": [
    {
     "data": {
      "text/plain": [
       "0.32332358381693654"
      ]
     },
     "execution_count": 5,
     "metadata": {},
     "output_type": "execute_result"
    }
   ],
   "source": [
    "stats.poisson(2).sf(2)"
   ]
  },
  {
   "cell_type": "markdown",
   "id": "b9f3ecab",
   "metadata": {},
   "source": [
    "## c. How likely is it that the drive through gets at least 1 car?"
   ]
  },
  {
   "cell_type": "code",
   "execution_count": 6,
   "id": "d839c819",
   "metadata": {},
   "outputs": [
    {
     "data": {
      "text/plain": [
       "0.8646647167633873"
      ]
     },
     "execution_count": 6,
     "metadata": {},
     "output_type": "execute_result"
    }
   ],
   "source": [
    "stats.poisson(2).sf(0)"
   ]
  },
  {
   "cell_type": "markdown",
   "id": "93e9fe48",
   "metadata": {},
   "source": [
    "## 2. Grades of State University graduates are normally distributed with a mean of 3.0 and a standard deviation of .3. Calculate the following:"
   ]
  },
  {
   "cell_type": "code",
   "execution_count": 7,
   "id": "8cc31937",
   "metadata": {},
   "outputs": [],
   "source": [
    "mean = 3.0\n",
    "std_dev = .3\n",
    "\n",
    "grades = stats.norm(mean, std_dev)"
   ]
  },
  {
   "cell_type": "markdown",
   "id": "2d38b643",
   "metadata": {},
   "source": [
    "### a. What grade point average is required to be in the top 5% of the graduating class?"
   ]
  },
  {
   "cell_type": "code",
   "execution_count": 8,
   "id": "f5feaaf1",
   "metadata": {},
   "outputs": [
    {
     "data": {
      "text/plain": [
       "3.4934560880854417"
      ]
     },
     "execution_count": 8,
     "metadata": {},
     "output_type": "execute_result"
    }
   ],
   "source": [
    "#I need to remember to include decimals in my percentages.\n",
    "grades.isf(.05)"
   ]
  },
  {
   "cell_type": "markdown",
   "id": "4e1bc6f4",
   "metadata": {},
   "source": [
    "### b. What GPA constitutes the bottom 15% of the class?"
   ]
  },
  {
   "cell_type": "code",
   "execution_count": 9,
   "id": "171032c4",
   "metadata": {},
   "outputs": [
    {
     "data": {
      "text/plain": [
       "2.689069983151863"
      ]
     },
     "execution_count": 9,
     "metadata": {},
     "output_type": "execute_result"
    }
   ],
   "source": [
    "grades.ppf(.15)"
   ]
  },
  {
   "cell_type": "markdown",
   "id": "949e3e2b",
   "metadata": {},
   "source": [
    "### c. An eccentric alumnus left scholarship money for students in the third decile from the bottom of their class. Determine the range of the third decile. Would a student with a 2.8 grade point average qualify for this scholarship?"
   ]
  },
  {
   "cell_type": "code",
   "execution_count": 10,
   "id": "f81be03d",
   "metadata": {},
   "outputs": [
    {
     "name": "stdout",
     "output_type": "stream",
     "text": [
      "2.7475136299281258\n",
      "2.842679846187588\n"
     ]
    }
   ],
   "source": [
    "top_of_range = grades.ppf(.2)\n",
    "print(top_of_range)\n",
    "\n",
    "bottom_of_range = grades.ppf(.3)\n",
    "print(bottom_of_range)\n",
    "\n",
    "#A student with a 2.8 GPA would indeed qualify for this scholarship."
   ]
  },
  {
   "cell_type": "code",
   "execution_count": 11,
   "id": "23d83122",
   "metadata": {},
   "outputs": [
    {
     "data": {
      "text/plain": [
       "array([2.74751363, 2.84267985])"
      ]
     },
     "execution_count": 11,
     "metadata": {},
     "output_type": "execute_result"
    }
   ],
   "source": [
    "#You can also type this as follows(returns an array):\n",
    "\n",
    "grades.ppf([.2, .3])"
   ]
  },
  {
   "cell_type": "markdown",
   "id": "7ab449ec",
   "metadata": {},
   "source": [
    "### d. If I have a GPA of 3.5, what percentile am I in?"
   ]
  },
  {
   "cell_type": "code",
   "execution_count": 12,
   "id": "19b9d78f",
   "metadata": {},
   "outputs": [
    {
     "data": {
      "text/plain": [
       "0.9522096477271853"
      ]
     },
     "execution_count": 12,
     "metadata": {},
     "output_type": "execute_result"
    }
   ],
   "source": [
    "grades.cdf(3.5)"
   ]
  },
  {
   "cell_type": "markdown",
   "id": "9a77155e",
   "metadata": {},
   "source": [
    "## 3. A marketing website has an average click-through rate of 2%. One day they observe 4326 visitors and 97 click-throughs. How likely is it that this many people or more click through?"
   ]
  },
  {
   "cell_type": "code",
   "execution_count": 13,
   "id": "c6a86c76",
   "metadata": {},
   "outputs": [
    {
     "data": {
      "text/plain": [
       "0.14211867659283192"
      ]
     },
     "execution_count": 13,
     "metadata": {},
     "output_type": "execute_result"
    }
   ],
   "source": [
    "stats.poisson(4326 * .02).sf(96)"
   ]
  },
  {
   "cell_type": "code",
   "execution_count": 14,
   "id": "512bf9e6",
   "metadata": {},
   "outputs": [
    {
     "data": {
      "text/plain": [
       "0.13975823631416445"
      ]
     },
     "execution_count": 14,
     "metadata": {},
     "output_type": "execute_result"
    }
   ],
   "source": [
    "#Ravinder's solution:\n",
    "\n",
    "#binomial distribution:\n",
    "n = 4326\n",
    "p = .02\n",
    "\n",
    "stats.binom(n, p).sf(96)"
   ]
  },
  {
   "cell_type": "markdown",
   "id": "234a4c88",
   "metadata": {},
   "source": [
    "## 4. You are working on some statistics homework consisting of 100 questions where all of the answers are a probability rounded to the hundredths place. Looking to save time, you put down random probabilities as the answer to each question."
   ]
  },
  {
   "cell_type": "code",
   "execution_count": 15,
   "id": "f4d251b5",
   "metadata": {},
   "outputs": [],
   "source": [
    "test = stats.binom(60, .01)"
   ]
  },
  {
   "cell_type": "markdown",
   "id": "137affeb",
   "metadata": {},
   "source": [
    "### a. What is the probability that at least one of your first 60 answers is correct?"
   ]
  },
  {
   "cell_type": "code",
   "execution_count": 16,
   "id": "04787525",
   "metadata": {},
   "outputs": [
    {
     "data": {
      "text/plain": [
       "0.45284335760923855"
      ]
     },
     "execution_count": 16,
     "metadata": {},
     "output_type": "execute_result"
    }
   ],
   "source": [
    "test.sf(0)"
   ]
  },
  {
   "cell_type": "markdown",
   "id": "5dde3ee4",
   "metadata": {},
   "source": [
    "## 5. The codeup staff tends to get upset when the student break area is not cleaned up. Suppose that there's a 3% chance that any one student cleans the break area when they visit it, and, on any given day, about 90% of the 3 active cohorts of 22 students visit the break area."
   ]
  },
  {
   "cell_type": "code",
   "execution_count": 17,
   "id": "8479ad4f",
   "metadata": {},
   "outputs": [],
   "source": [
    "clean = stats.binom((.9 * 66), .03)"
   ]
  },
  {
   "cell_type": "markdown",
   "id": "b5eda5d3",
   "metadata": {},
   "source": [
    "### a. How likely is it that the break area gets cleaned up each day?"
   ]
  },
  {
   "cell_type": "code",
   "execution_count": 18,
   "id": "8468830b",
   "metadata": {},
   "outputs": [
    {
     "data": {
      "text/plain": [
       "0.8362274861228872"
      ]
     },
     "execution_count": 18,
     "metadata": {},
     "output_type": "execute_result"
    }
   ],
   "source": [
    "clean.sf(0)"
   ]
  },
  {
   "cell_type": "markdown",
   "id": "807bb8a3",
   "metadata": {},
   "source": [
    "### b. How likely is it that it goes two days without getting cleaned up?"
   ]
  },
  {
   "cell_type": "code",
   "execution_count": 19,
   "id": "e5ea6058",
   "metadata": {},
   "outputs": [
    {
     "data": {
      "text/plain": [
       "0.02682143630162909"
      ]
     },
     "execution_count": 19,
     "metadata": {},
     "output_type": "execute_result"
    }
   ],
   "source": [
    "#The way I'm thinking about this initially is to find the probability of it not being cleaned for 1 day\n",
    "clean.cdf(0)\n",
    "\n",
    "#Then, based on the multiplication rule of probabilities, I would multiply that probability by itself n times for n days. \n",
    "#Or, more simply put, I would raise that probability to the n power:\n",
    "(clean.cdf(0)) ** 2"
   ]
  },
  {
   "cell_type": "code",
   "execution_count": 20,
   "id": "ba4b3c33",
   "metadata": {},
   "outputs": [
    {
     "data": {
      "text/plain": [
       "0.026821436301629083"
      ]
     },
     "execution_count": 20,
     "metadata": {},
     "output_type": "execute_result"
    }
   ],
   "source": [
    "#Or, I could simply redefine the sample size to include the number of students that would pass through in n days.\n",
    "clean = stats.binom((.9 * (66 * 2)), .03)\n",
    "\n",
    "#Here, I'm using 0 as the number of \"successes\" or how many times the space was cleaned\n",
    "clean.cdf(0)"
   ]
  },
  {
   "cell_type": "markdown",
   "id": "3f16fcfe",
   "metadata": {},
   "source": [
    "### c. All week?"
   ]
  },
  {
   "cell_type": "code",
   "execution_count": 21,
   "id": "1792e769",
   "metadata": {},
   "outputs": [
    {
     "data": {
      "text/plain": [
       "0.00011781621791055157"
      ]
     },
     "execution_count": 21,
     "metadata": {},
     "output_type": "execute_result"
    }
   ],
   "source": [
    "#(defining distribution back to original):\n",
    "clean = stats.binom((.9 * 66), .03)\n",
    "\n",
    "#Again, I could make use of the multiplication property:\n",
    "(clean.cdf(0)) ** 5"
   ]
  },
  {
   "cell_type": "code",
   "execution_count": 22,
   "id": "93a8d5c7",
   "metadata": {},
   "outputs": [
    {
     "data": {
      "text/plain": [
       "3.160000183986709e-06"
      ]
     },
     "execution_count": 22,
     "metadata": {},
     "output_type": "execute_result"
    }
   ],
   "source": [
    "#Or, I could again redefine the sample size to include the number of students passing through in 7 days:\n",
    "clean = stats.binom((.9 * (66 * 7)), .03)\n",
    "\n",
    "clean.cdf(0)"
   ]
  },
  {
   "cell_type": "markdown",
   "id": "6b1cd6d3",
   "metadata": {},
   "source": [
    "## 6. You want to get lunch at La Panaderia, but notice that the line is usually very long at lunchtime. After several weeks of careful observation, you notice that the average number of people in line when your lunch break starts is normally distributed with a mean of 15 and standard deviation of 3. If it takes 2 minutes for each person to order, and 10 minutes from ordering to getting your food, what is the likelihood that you have at least 15 minutes left to eat your food before you have to go back to class? Assume you have one hour for lunch, and ignore travel time to and from La Panaderia."
   ]
  },
  {
   "cell_type": "code",
   "execution_count": 23,
   "id": "58ddb57d",
   "metadata": {},
   "outputs": [],
   "source": [
    "#defining the distribution:\n",
    "mean = 15\n",
    "std_dev = 3\n",
    "\n",
    "lunch = stats.norm(mean, std_dev)"
   ]
  },
  {
   "cell_type": "code",
   "execution_count": 24,
   "id": "b1ce03f8",
   "metadata": {},
   "outputs": [
    {
     "data": {
      "text/plain": [
       "0.7475074624530771"
      ]
     },
     "execution_count": 24,
     "metadata": {},
     "output_type": "execute_result"
    }
   ],
   "source": [
    "lunch.cdf(floor((50 - 15) / 2))"
   ]
  },
  {
   "cell_type": "markdown",
   "id": "c26c3e98",
   "metadata": {},
   "source": [
    "## 7. Connect to the employees database and find the average salary of current employees, along with the standard deviation. For the following questions, calculate the answer based on modeling the employees salaries with a normal distribution defined by the calculated mean and standard deviation then compare this answer to the actual values present in the salaries dataset."
   ]
  },
  {
   "cell_type": "code",
   "execution_count": 25,
   "id": "545e3f8d",
   "metadata": {},
   "outputs": [],
   "source": [
    "#Connecting to the database and querying the data\n",
    "\n",
    "sql = '''\n",
    "SELECT * FROM salaries\n",
    "WHERE to_date LIKE '9999%%';\n",
    "'''\n",
    "\n",
    "employees = pd.read_sql(sql, url)"
   ]
  },
  {
   "cell_type": "code",
   "execution_count": 26,
   "id": "cb592b49",
   "metadata": {},
   "outputs": [],
   "source": [
    "#Converting the data to a Dataframe:\n",
    "employees = pd.DataFrame(employees)"
   ]
  },
  {
   "cell_type": "code",
   "execution_count": 27,
   "id": "9a8603e2",
   "metadata": {},
   "outputs": [
    {
     "data": {
      "text/html": [
       "<div>\n",
       "<style scoped>\n",
       "    .dataframe tbody tr th:only-of-type {\n",
       "        vertical-align: middle;\n",
       "    }\n",
       "\n",
       "    .dataframe tbody tr th {\n",
       "        vertical-align: top;\n",
       "    }\n",
       "\n",
       "    .dataframe thead th {\n",
       "        text-align: right;\n",
       "    }\n",
       "</style>\n",
       "<table border=\"1\" class=\"dataframe\">\n",
       "  <thead>\n",
       "    <tr style=\"text-align: right;\">\n",
       "      <th></th>\n",
       "      <th>emp_no</th>\n",
       "      <th>salary</th>\n",
       "    </tr>\n",
       "  </thead>\n",
       "  <tbody>\n",
       "    <tr>\n",
       "      <th>count</th>\n",
       "      <td>240124.000000</td>\n",
       "      <td>240124.000000</td>\n",
       "    </tr>\n",
       "    <tr>\n",
       "      <th>mean</th>\n",
       "      <td>253080.615365</td>\n",
       "      <td>72012.235857</td>\n",
       "    </tr>\n",
       "    <tr>\n",
       "      <th>std</th>\n",
       "      <td>161853.087323</td>\n",
       "      <td>17309.995380</td>\n",
       "    </tr>\n",
       "    <tr>\n",
       "      <th>min</th>\n",
       "      <td>10001.000000</td>\n",
       "      <td>38623.000000</td>\n",
       "    </tr>\n",
       "    <tr>\n",
       "      <th>25%</th>\n",
       "      <td>84878.750000</td>\n",
       "      <td>59048.750000</td>\n",
       "    </tr>\n",
       "    <tr>\n",
       "      <th>50%</th>\n",
       "      <td>249792.500000</td>\n",
       "      <td>69805.000000</td>\n",
       "    </tr>\n",
       "    <tr>\n",
       "      <th>75%</th>\n",
       "      <td>424895.250000</td>\n",
       "      <td>82546.000000</td>\n",
       "    </tr>\n",
       "    <tr>\n",
       "      <th>max</th>\n",
       "      <td>499999.000000</td>\n",
       "      <td>158220.000000</td>\n",
       "    </tr>\n",
       "  </tbody>\n",
       "</table>\n",
       "</div>"
      ],
      "text/plain": [
       "              emp_no         salary\n",
       "count  240124.000000  240124.000000\n",
       "mean   253080.615365   72012.235857\n",
       "std    161853.087323   17309.995380\n",
       "min     10001.000000   38623.000000\n",
       "25%     84878.750000   59048.750000\n",
       "50%    249792.500000   69805.000000\n",
       "75%    424895.250000   82546.000000\n",
       "max    499999.000000  158220.000000"
      ]
     },
     "execution_count": 27,
     "metadata": {},
     "output_type": "execute_result"
    }
   ],
   "source": [
    "#Getting a quick look at the descriptive stats for the dataframe:\n",
    "employees.describe()"
   ]
  },
  {
   "cell_type": "code",
   "execution_count": 28,
   "id": "372b49d3",
   "metadata": {},
   "outputs": [],
   "source": [
    "#Defining the distribution:\n",
    "mean = employees.salary.mean()\n",
    "std_dev = employees.salary.std()\n",
    "\n",
    "salary = stats.norm(mean, std_dev)"
   ]
  },
  {
   "cell_type": "markdown",
   "id": "fd55cbd5",
   "metadata": {},
   "source": [
    "### a. What percent of employees earn less than 60,000?"
   ]
  },
  {
   "cell_type": "code",
   "execution_count": 29,
   "id": "a16f66be",
   "metadata": {},
   "outputs": [
    {
     "data": {
      "text/plain": [
       "0.24385742480214423"
      ]
     },
     "execution_count": 29,
     "metadata": {},
     "output_type": "execute_result"
    }
   ],
   "source": [
    "salary.cdf(60000)"
   ]
  },
  {
   "cell_type": "markdown",
   "id": "3c4dcb84",
   "metadata": {},
   "source": [
    "### b. What percent of employees earn more than 95,000?"
   ]
  },
  {
   "cell_type": "code",
   "execution_count": 30,
   "id": "877ac95b",
   "metadata": {},
   "outputs": [
    {
     "data": {
      "text/plain": [
       "0.09208819199804053"
      ]
     },
     "execution_count": 30,
     "metadata": {},
     "output_type": "execute_result"
    }
   ],
   "source": [
    "salary.sf(95000)"
   ]
  },
  {
   "cell_type": "markdown",
   "id": "241c2e77",
   "metadata": {},
   "source": [
    "### c. What percent of employees earn between 65,000 and 80,000?"
   ]
  },
  {
   "cell_type": "code",
   "execution_count": 31,
   "id": "f0e50f25",
   "metadata": {},
   "outputs": [
    {
     "data": {
      "text/plain": [
       "0.3350605685446666"
      ]
     },
     "execution_count": 31,
     "metadata": {},
     "output_type": "execute_result"
    }
   ],
   "source": [
    "(salary.cdf(80000) - salary.cdf(65000))"
   ]
  },
  {
   "cell_type": "markdown",
   "id": "eac9f20a",
   "metadata": {},
   "source": [
    "### d. What do the top 5% of employees make?"
   ]
  },
  {
   "cell_type": "code",
   "execution_count": 32,
   "id": "0c271f3f",
   "metadata": {},
   "outputs": [
    {
     "data": {
      "text/plain": [
       "100484.64454102777"
      ]
     },
     "execution_count": 32,
     "metadata": {},
     "output_type": "execute_result"
    }
   ],
   "source": [
    "salary.isf(.05)"
   ]
  }
 ],
 "metadata": {
  "kernelspec": {
   "display_name": "Python 3 (ipykernel)",
   "language": "python",
   "name": "python3"
  },
  "language_info": {
   "codemirror_mode": {
    "name": "ipython",
    "version": 3
   },
   "file_extension": ".py",
   "mimetype": "text/x-python",
   "name": "python",
   "nbconvert_exporter": "python",
   "pygments_lexer": "ipython3",
   "version": "3.9.7"
  }
 },
 "nbformat": 4,
 "nbformat_minor": 5
}
