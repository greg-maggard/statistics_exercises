{
 "cells": [
  {
   "cell_type": "code",
   "execution_count": 203,
   "id": "ba1b4766",
   "metadata": {},
   "outputs": [],
   "source": [
    "%matplotlib inline\n",
    "import numpy as np\n",
    "import pandas as pd\n",
    "from math import factorial\n",
    "\n",
    "import viz # curriculum example visualizations\n",
    "\n",
    "np.random.seed(100)"
   ]
  },
  {
   "cell_type": "markdown",
   "id": "02998ac7",
   "metadata": {},
   "source": [
    "# Questions to ask during lecture review:"
   ]
  },
  {
   "cell_type": "markdown",
   "id": "cd7856ba",
   "metadata": {},
   "source": [
    "# Exercises"
   ]
  },
  {
   "cell_type": "markdown",
   "id": "0088f5d9",
   "metadata": {},
   "source": [
    "## 1. How likely is it that you roll doubles when rolling two dice?"
   ]
  },
  {
   "cell_type": "code",
   "execution_count": 204,
   "id": "8cc5caca",
   "metadata": {},
   "outputs": [
    {
     "data": {
      "text/plain": [
       "0.1652"
      ]
     },
     "execution_count": 204,
     "metadata": {},
     "output_type": "execute_result"
    }
   ],
   "source": [
    "#Establishing first the number of trials (the higher the number of trials, the more accurate our probability estimate)\n",
    "n_trials = nrows = 10_000\n",
    "\n",
    "n_dice = ncols = 2\n",
    "\n",
    "rolls = np.random.choice([1, 2, 3, 4, 5, 6], n_trials * n_dice).reshape(nrows, ncols)\n",
    "rolls\n",
    "\n",
    "rolls = pd.DataFrame(rolls)\n",
    "\n",
    "#I need to remember to include the 'axis = 1' argument for .apply() to ensure that the function hits the *rows* rather than the coluns (the default)\n",
    "rolls.apply((lambda row: row[0] == row[1]), axis = 1).mean()\n",
    "\n",
    "#Another angle to tackle this would be to go through the columns (i.e. *not* using axis = 1)\n",
    "(rolls[0] == rolls[1]).mean()\n",
    "#Again, note that the 'axis = 1' argument is not here, because I'm operating on the column"
   ]
  },
  {
   "cell_type": "markdown",
   "id": "b4730271",
   "metadata": {},
   "source": [
    "## 2. If you flip 8 coins, what is the probability of getting exactly 3 heads? What is the probability of getting more than 3 heads?"
   ]
  },
  {
   "cell_type": "code",
   "execution_count": 208,
   "id": "1098a650",
   "metadata": {},
   "outputs": [
    {
     "data": {
      "text/html": [
       "<div>\n",
       "<style scoped>\n",
       "    .dataframe tbody tr th:only-of-type {\n",
       "        vertical-align: middle;\n",
       "    }\n",
       "\n",
       "    .dataframe tbody tr th {\n",
       "        vertical-align: top;\n",
       "    }\n",
       "\n",
       "    .dataframe thead th {\n",
       "        text-align: right;\n",
       "    }\n",
       "</style>\n",
       "<table border=\"1\" class=\"dataframe\">\n",
       "  <thead>\n",
       "    <tr style=\"text-align: right;\">\n",
       "      <th></th>\n",
       "      <th>0</th>\n",
       "      <th>1</th>\n",
       "      <th>2</th>\n",
       "      <th>3</th>\n",
       "      <th>4</th>\n",
       "      <th>5</th>\n",
       "      <th>6</th>\n",
       "      <th>7</th>\n",
       "    </tr>\n",
       "  </thead>\n",
       "  <tbody>\n",
       "    <tr>\n",
       "      <th>0</th>\n",
       "      <td>1</td>\n",
       "      <td>1</td>\n",
       "      <td>0</td>\n",
       "      <td>0</td>\n",
       "      <td>1</td>\n",
       "      <td>0</td>\n",
       "      <td>0</td>\n",
       "      <td>0</td>\n",
       "    </tr>\n",
       "    <tr>\n",
       "      <th>1</th>\n",
       "      <td>0</td>\n",
       "      <td>0</td>\n",
       "      <td>0</td>\n",
       "      <td>0</td>\n",
       "      <td>0</td>\n",
       "      <td>1</td>\n",
       "      <td>1</td>\n",
       "      <td>0</td>\n",
       "    </tr>\n",
       "    <tr>\n",
       "      <th>2</th>\n",
       "      <td>1</td>\n",
       "      <td>0</td>\n",
       "      <td>0</td>\n",
       "      <td>1</td>\n",
       "      <td>1</td>\n",
       "      <td>0</td>\n",
       "      <td>0</td>\n",
       "      <td>1</td>\n",
       "    </tr>\n",
       "    <tr>\n",
       "      <th>3</th>\n",
       "      <td>1</td>\n",
       "      <td>1</td>\n",
       "      <td>0</td>\n",
       "      <td>0</td>\n",
       "      <td>1</td>\n",
       "      <td>1</td>\n",
       "      <td>0</td>\n",
       "      <td>1</td>\n",
       "    </tr>\n",
       "    <tr>\n",
       "      <th>4</th>\n",
       "      <td>1</td>\n",
       "      <td>0</td>\n",
       "      <td>1</td>\n",
       "      <td>1</td>\n",
       "      <td>1</td>\n",
       "      <td>1</td>\n",
       "      <td>1</td>\n",
       "      <td>1</td>\n",
       "    </tr>\n",
       "    <tr>\n",
       "      <th>...</th>\n",
       "      <td>...</td>\n",
       "      <td>...</td>\n",
       "      <td>...</td>\n",
       "      <td>...</td>\n",
       "      <td>...</td>\n",
       "      <td>...</td>\n",
       "      <td>...</td>\n",
       "      <td>...</td>\n",
       "    </tr>\n",
       "    <tr>\n",
       "      <th>9995</th>\n",
       "      <td>1</td>\n",
       "      <td>0</td>\n",
       "      <td>1</td>\n",
       "      <td>1</td>\n",
       "      <td>0</td>\n",
       "      <td>1</td>\n",
       "      <td>0</td>\n",
       "      <td>1</td>\n",
       "    </tr>\n",
       "    <tr>\n",
       "      <th>9996</th>\n",
       "      <td>0</td>\n",
       "      <td>1</td>\n",
       "      <td>1</td>\n",
       "      <td>1</td>\n",
       "      <td>0</td>\n",
       "      <td>1</td>\n",
       "      <td>0</td>\n",
       "      <td>0</td>\n",
       "    </tr>\n",
       "    <tr>\n",
       "      <th>9997</th>\n",
       "      <td>0</td>\n",
       "      <td>0</td>\n",
       "      <td>1</td>\n",
       "      <td>0</td>\n",
       "      <td>0</td>\n",
       "      <td>1</td>\n",
       "      <td>1</td>\n",
       "      <td>0</td>\n",
       "    </tr>\n",
       "    <tr>\n",
       "      <th>9998</th>\n",
       "      <td>0</td>\n",
       "      <td>1</td>\n",
       "      <td>0</td>\n",
       "      <td>0</td>\n",
       "      <td>0</td>\n",
       "      <td>0</td>\n",
       "      <td>1</td>\n",
       "      <td>0</td>\n",
       "    </tr>\n",
       "    <tr>\n",
       "      <th>9999</th>\n",
       "      <td>1</td>\n",
       "      <td>0</td>\n",
       "      <td>0</td>\n",
       "      <td>0</td>\n",
       "      <td>1</td>\n",
       "      <td>1</td>\n",
       "      <td>1</td>\n",
       "      <td>1</td>\n",
       "    </tr>\n",
       "  </tbody>\n",
       "</table>\n",
       "<p>10000 rows × 8 columns</p>\n",
       "</div>"
      ],
      "text/plain": [
       "      0  1  2  3  4  5  6  7\n",
       "0     1  1  0  0  1  0  0  0\n",
       "1     0  0  0  0  0  1  1  0\n",
       "2     1  0  0  1  1  0  0  1\n",
       "3     1  1  0  0  1  1  0  1\n",
       "4     1  0  1  1  1  1  1  1\n",
       "...  .. .. .. .. .. .. .. ..\n",
       "9995  1  0  1  1  0  1  0  1\n",
       "9996  0  1  1  1  0  1  0  0\n",
       "9997  0  0  1  0  0  1  1  0\n",
       "9998  0  1  0  0  0  0  1  0\n",
       "9999  1  0  0  0  1  1  1  1\n",
       "\n",
       "[10000 rows x 8 columns]"
      ]
     },
     "execution_count": 208,
     "metadata": {},
     "output_type": "execute_result"
    }
   ],
   "source": [
    "\n",
    "\n",
    "n_flips = 10_000\n",
    "n_coins = 8\n",
    "\n",
    "coin_flip = np.random.choice([0, 1], n_flips * n_coins).reshape(n_flips, n_coins)\n",
    "\n",
    "coin_flip = pd.DataFrame(coin_flip)\n",
    "coin_flip"
   ]
  },
  {
   "cell_type": "code",
   "execution_count": 212,
   "id": "58afa086",
   "metadata": {},
   "outputs": [
    {
     "data": {
      "text/plain": [
       "0.2233"
      ]
     },
     "execution_count": 212,
     "metadata": {},
     "output_type": "execute_result"
    }
   ],
   "source": [
    "#The probability of getting exactly 3 heads\n",
    "coin_flip.apply((lambda row: row.sum() == 3), axis=1).mean()\n",
    "\n",
    "#Or, Ryan showed me that I can just apply the .sum() to the DF itself (axis = 1)\n",
    "(coin_flip.sum(axis = 1) == 3).mean()"
   ]
  },
  {
   "cell_type": "code",
   "execution_count": 215,
   "id": "62d7d268",
   "metadata": {},
   "outputs": [
    {
     "data": {
      "text/plain": [
       "0.6259"
      ]
     },
     "execution_count": 215,
     "metadata": {},
     "output_type": "execute_result"
    }
   ],
   "source": [
    "#Probability of getting more than 3 heads\n",
    "coin_flip.apply((lambda row: row.sum() > 3), axis=1).mean()"
   ]
  },
  {
   "cell_type": "markdown",
   "id": "25e26671",
   "metadata": {},
   "source": [
    "## 3. There are approximately 3 web development cohorts for every 1 data science cohort at Codeup. Assuming that Codeup randomly selects an alum to put on a billboard, what are the odds that the two billboards I drive past both have data science students on them?"
   ]
  },
  {
   "cell_type": "code",
   "execution_count": 216,
   "id": "550fc5fb",
   "metadata": {},
   "outputs": [
    {
     "data": {
      "text/plain": [
       "0.0635"
      ]
     },
     "execution_count": 216,
     "metadata": {},
     "output_type": "execute_result"
    }
   ],
   "source": [
    "n_trips = 10_000\n",
    "n_boards = 2\n",
    "\n",
    "board_alum = np.random.choice([0, 0, 0, 1], n_trips * n_boards).reshape(n_trips, n_boards)\n",
    "\n",
    "board_alum = pd.DataFrame(board_alum)\n",
    "\n",
    "# The probability that both are DS students\n",
    "board_alum.apply((lambda row: row.sum() == 2), axis=1).mean()\n",
    "\n",
    "#Shorthand of the above:\n",
    "(board_alum.sum(axis = 1) == 2).mean()"
   ]
  },
  {
   "cell_type": "code",
   "execution_count": 219,
   "id": "67ba4daf",
   "metadata": {},
   "outputs": [
    {
     "data": {
      "text/plain": [
       "0.0679"
      ]
     },
     "execution_count": 219,
     "metadata": {},
     "output_type": "execute_result"
    }
   ],
   "source": [
    "#I can also rewrite the initial formula using the probability argument for np.random.choice:\n",
    "board_alum = np.random.choice([0, 1], n_trips * n_boards, p = [.75, .25]).reshape(n_trips, n_boards)\n",
    "(board_alum.sum(axis = 1) == 2).mean()"
   ]
  },
  {
   "cell_type": "markdown",
   "id": "1f4b627c",
   "metadata": {},
   "source": [
    "# 4. Codeup students buy, on average, 3 poptart packages with a standard deviation of 1.5 a day from the snack vending machine. If on monday the machine is restocked with 17 poptart packages, how likely is it that I will be able to buy some poptarts on Friday afternoon? (Remember, if you have mean and standard deviation, use the np.random.normal)"
   ]
  },
  {
   "cell_type": "code",
   "execution_count": 225,
   "id": "0f72d19b",
   "metadata": {},
   "outputs": [
    {
     "data": {
      "text/plain": [
       "0.6771"
      ]
     },
     "execution_count": 225,
     "metadata": {},
     "output_type": "execute_result"
    }
   ],
   "source": [
    "n_checks = 10000\n",
    "n_days = 5\n",
    "\n",
    "pop_tarts = (np.random.normal(3, 1.5, n_checks * n_days)).reshape(n_checks, n_days).round()\n",
    "\n",
    "pop_tarts = pd.DataFrame(pop_tarts)\n",
    "\n",
    "(pop_tarts.sum(axis = 1) < 17).mean()"
   ]
  },
  {
   "cell_type": "markdown",
   "id": "fcd58f8e",
   "metadata": {},
   "source": [
    "# 5. Compare Heights\n",
    "- Men have an average height of 178 cm and standard deviation of 8cm.\n",
    "- Women have a mean of 170, sd = 6cm.\n",
    "- Since you have means and standard deviations, you can use np.random.normal to generate observations.\n",
    "- If a man and woman are chosen at random, what is the likelihood the woman is taller than the man?"
   ]
  },
  {
   "cell_type": "code",
   "execution_count": 226,
   "id": "1d3678e8",
   "metadata": {},
   "outputs": [
    {
     "data": {
      "text/plain": [
       "0    0.2099\n",
       "dtype: float64"
      ]
     },
     "execution_count": 226,
     "metadata": {},
     "output_type": "execute_result"
    }
   ],
   "source": [
    "n_checks = 10000\n",
    "n_people = 1\n",
    "\n",
    "man = (np.random.normal(178, 8, n_checks * n_people)).reshape(n_checks, n_people)\n",
    "man = pd.DataFrame(man)\n",
    "\n",
    "woman = (np.random.normal(170, 6, n_checks * n_people)).reshape(n_checks, n_people)\n",
    "woman = pd.DataFrame(woman)\n",
    "\n",
    "sample = pd.concat([man, woman], axis = 1, keys = ['Man', 'Woman'])\n",
    "#sample\n",
    "\n",
    "(sample['Man'] < sample['Woman']).mean()"
   ]
  },
  {
   "cell_type": "markdown",
   "id": "4d2d2523",
   "metadata": {},
   "source": [
    "# 6. When installing anaconda on a student's computer, there's a 1 in 250 chance that the download is corrupted and the installation fails. "
   ]
  },
  {
   "cell_type": "markdown",
   "id": "1595a026",
   "metadata": {},
   "source": [
    "## a. What are the odds that after having 50 students download anaconda, no one has an installation issue?"
   ]
  },
  {
   "cell_type": "code",
   "execution_count": 12,
   "id": "80d6d895",
   "metadata": {},
   "outputs": [
    {
     "data": {
      "text/plain": [
       "0.8243"
      ]
     },
     "execution_count": 12,
     "metadata": {},
     "output_type": "execute_result"
    }
   ],
   "source": [
    "n_installs = 10000\n",
    "n_students = 50\n",
    "\n",
    "\n",
    "#We can use 'p = [x, y]' to set the probabilities for the respective choices. \n",
    "install = (np.random.choice([0, 1], n_installs * n_students, p = [.996, .004])).reshape(n_installs, n_students)\n",
    "\n",
    "#This will calculate the likelihood that we *will* have a failure:\n",
    "(install.sum(axis = 1) > 0).mean()\n",
    "\n",
    "#So we need to subtract it from 1 in order to get the probability that we *won't* have a failure:\n",
    "(1- (install.sum(axis = 1) > 0).mean())"
   ]
  },
  {
   "cell_type": "markdown",
   "id": "c7f03010",
   "metadata": {},
   "source": [
    "## b. 100 students?"
   ]
  },
  {
   "cell_type": "code",
   "execution_count": 15,
   "id": "e44d19de",
   "metadata": {},
   "outputs": [
    {
     "data": {
      "text/plain": [
       "0.6669"
      ]
     },
     "execution_count": 15,
     "metadata": {},
     "output_type": "execute_result"
    }
   ],
   "source": [
    "#Doing the same as above, only for 100 students\n",
    "n_installs = 10000\n",
    "n_students = 100\n",
    "\n",
    "install = (np.random.choice([0, 1], n_installs * n_students, p = [.996, .004])).reshape(n_installs, n_students)\n",
    "(1 - (install.sum(axis = 1) > 0).mean())"
   ]
  },
  {
   "cell_type": "markdown",
   "id": "52aa90d2",
   "metadata": {},
   "source": [
    "## c. 150 students?"
   ]
  },
  {
   "cell_type": "code",
   "execution_count": 227,
   "id": "ee5e5eca",
   "metadata": {},
   "outputs": [
    {
     "data": {
      "text/plain": [
       "0.5507"
      ]
     },
     "execution_count": 227,
     "metadata": {},
     "output_type": "execute_result"
    }
   ],
   "source": [
    "#Doing the same as above, only for 150 students\n",
    "n_installs = 10000\n",
    "n_students = 150\n",
    "\n",
    "install = (np.random.choice([0, 1], n_installs * n_students, p = [.996, .004])).reshape(n_installs, n_students)\n",
    "(1 - (install.sum(axis = 1) > 0).mean())"
   ]
  },
  {
   "cell_type": "markdown",
   "id": "85d4d858",
   "metadata": {},
   "source": [
    "## d. What is the probability that we observe an installation issue within the first 150 students that download anaconda?"
   ]
  },
  {
   "cell_type": "code",
   "execution_count": 22,
   "id": "e5a1fc4e",
   "metadata": {},
   "outputs": [
    {
     "data": {
      "text/plain": [
       "0.4521"
      ]
     },
     "execution_count": 22,
     "metadata": {},
     "output_type": "execute_result"
    }
   ],
   "source": [
    "#For this one, because I'm looking for the probability that there *is* a failure, I'm not going to subtract from 1:\n",
    "n_installs = 10000\n",
    "n_students = 150\n",
    "\n",
    "install = (np.random.choice([0, 1], n_installs * n_students, p = [.996, .004])).reshape(n_installs, n_students)\n",
    "(install.sum(axis = 1) > 0).mean()"
   ]
  },
  {
   "cell_type": "markdown",
   "id": "0fb88be1",
   "metadata": {},
   "source": [
    "## e. How likely is it that 450 students all download anaconda without an issue?"
   ]
  },
  {
   "cell_type": "code",
   "execution_count": 228,
   "id": "89da4b4d",
   "metadata": {},
   "outputs": [
    {
     "data": {
      "text/plain": [
       "0.1623"
      ]
     },
     "execution_count": 228,
     "metadata": {},
     "output_type": "execute_result"
    }
   ],
   "source": [
    "#Again, because I'm looking for the probability there *won't* be a failure, I'll need to subtract from 1:\n",
    "n_installs = 10000\n",
    "n_students = 450\n",
    "\n",
    "install = (np.random.choice([0, 1], n_installs * n_students, p = [.996, .004])).reshape(n_installs, n_students)\n",
    "install.shape\n",
    "(1 - (install.sum(axis = 1) > 0).mean())"
   ]
  },
  {
   "cell_type": "markdown",
   "id": "46faac8b",
   "metadata": {},
   "source": [
    "# 7. There's a 70% chance on any given day that there will be at least one food truck at Travis Park."
   ]
  },
  {
   "cell_type": "markdown",
   "id": "67cbb760",
   "metadata": {},
   "source": [
    "## a. However, you haven't seen a food truck there in 3 days. How unlikely is this?"
   ]
  },
  {
   "cell_type": "code",
   "execution_count": 195,
   "id": "62b31eb5",
   "metadata": {},
   "outputs": [
    {
     "data": {
      "text/plain": [
       "0.0257"
      ]
     },
     "execution_count": 195,
     "metadata": {},
     "output_type": "execute_result"
    }
   ],
   "source": [
    "n_checks = 10000\n",
    "n_days = 3\n",
    "\n",
    "food_truck = np.random.choice([0, 1], n_days * n_checks, p = [.3, .7]).reshape(n_checks, n_days)\n",
    "food_truck = pd.DataFrame(food_truck)\n",
    "\n",
    "#Likelihood that the food truck will not show up for 3 days:\n",
    "(food_truck.sum(axis = 1) == 0).mean()\n",
    "\n",
    "#When it says 'how *unlikely* is this,' does that mean we need to subtract from 1 and say it's roughly 75% unlikely?"
   ]
  },
  {
   "cell_type": "markdown",
   "id": "507b32ec",
   "metadata": {},
   "source": [
    "## b. How likely is it that a food truck will show up sometime this week?"
   ]
  },
  {
   "cell_type": "code",
   "execution_count": 231,
   "id": "cd0e5845",
   "metadata": {},
   "outputs": [
    {
     "data": {
      "text/plain": [
       "0.9994"
      ]
     },
     "execution_count": 231,
     "metadata": {},
     "output_type": "execute_result"
    }
   ],
   "source": [
    "n_checks = 10000\n",
    "n_days = 7\n",
    "\n",
    "food_truck = np.random.choice([0, 1], n_days * n_checks, p = [.3, .7]).reshape(n_checks, n_days)\n",
    "food_truck = pd.DataFrame(food_truck)\n",
    "\n",
    "(food_truck.sum(axis = 1) > 0).mean()\n",
    "\n",
    "#It is clearly VERY likely that the food truck will appear."
   ]
  },
  {
   "cell_type": "markdown",
   "id": "1fe18b37",
   "metadata": {},
   "source": [
    "# 8. If 23 people are in the same room, what are the odds that two of them share a birthday? "
   ]
  },
  {
   "cell_type": "code",
   "execution_count": 234,
   "id": "51183b81",
   "metadata": {},
   "outputs": [
    {
     "data": {
      "text/plain": [
       "0.4993"
      ]
     },
     "execution_count": 234,
     "metadata": {},
     "output_type": "execute_result"
    }
   ],
   "source": [
    "n_checks = 10000\n",
    "n_birthdays = 23\n",
    "\n",
    "birthdays = np.random.choice((list(range(365))), n_checks * n_birthdays).reshape(n_checks, n_birthdays)\n",
    "\n",
    "birthdays = pd.DataFrame(birthdays)\n",
    "(birthdays.nunique(axis = 1) < 23).mean()"
   ]
  },
  {
   "cell_type": "markdown",
   "id": "a107abca",
   "metadata": {},
   "source": [
    "# b. What if it's 20 people?"
   ]
  },
  {
   "cell_type": "code",
   "execution_count": 235,
   "id": "6c60265d",
   "metadata": {},
   "outputs": [
    {
     "data": {
      "text/plain": [
       "0.4051"
      ]
     },
     "execution_count": 235,
     "metadata": {},
     "output_type": "execute_result"
    }
   ],
   "source": [
    "n_checks = 10000\n",
    "n_birthdays = 20\n",
    "\n",
    "birthdays = np.random.choice((list(range(365))), n_checks * n_birthdays).reshape(n_checks, n_birthdays)\n",
    "\n",
    "birthdays = pd.DataFrame(birthdays)\n",
    "(birthdays.nunique(axis = 1) < 20).mean()"
   ]
  },
  {
   "cell_type": "markdown",
   "id": "07ad993c",
   "metadata": {},
   "source": [
    "# c. What if it's 40 people?"
   ]
  },
  {
   "cell_type": "code",
   "execution_count": 236,
   "id": "60c769cf",
   "metadata": {},
   "outputs": [
    {
     "data": {
      "text/plain": [
       "0.8872"
      ]
     },
     "execution_count": 236,
     "metadata": {},
     "output_type": "execute_result"
    }
   ],
   "source": [
    "n_checks = 10000\n",
    "n_birthdays = 40\n",
    "\n",
    "birthdays = np.random.choice((list(range(365))), n_checks * n_birthdays).reshape(n_checks, n_birthdays)\n",
    "\n",
    "birthdays = pd.DataFrame(birthdays)\n",
    "(birthdays.nunique(axis = 1) < 40).mean()"
   ]
  }
 ],
 "metadata": {
  "kernelspec": {
   "display_name": "Python 3 (ipykernel)",
   "language": "python",
   "name": "python3"
  },
  "language_info": {
   "codemirror_mode": {
    "name": "ipython",
    "version": 3
   },
   "file_extension": ".py",
   "mimetype": "text/x-python",
   "name": "python",
   "nbconvert_exporter": "python",
   "pygments_lexer": "ipython3",
   "version": "3.9.7"
  }
 },
 "nbformat": 4,
 "nbformat_minor": 5
}
